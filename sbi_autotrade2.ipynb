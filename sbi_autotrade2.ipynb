{
 "cells": [
  {
   "cell_type": "code",
   "execution_count": 147,
   "metadata": {
    "collapsed": true
   },
   "outputs": [],
   "source": [
    "import requests\n",
    "import json\n",
    "from bs4 import BeautifulSoup as bs\n",
    "import lxml"
   ]
  },
  {
   "cell_type": "code",
   "execution_count": 148,
   "metadata": {
    "collapsed": true
   },
   "outputs": [],
   "source": [
    "url_ = 'https://k.sbisec.co.jp/bsite/visitor/loginUserCheck.do'"
   ]
  },
  {
   "cell_type": "code",
   "execution_count": 149,
   "metadata": {
    "collapsed": true
   },
   "outputs": [],
   "source": [
    "urlSearch = 'https://k.sbisec.co.jp/bsite/price/search.do'\n",
    "urlSearchStock = 'https://k.sbisec.co.jp/bsite/price/searchStock.do'"
   ]
  },
  {
   "cell_type": "code",
   "execution_count": 150,
   "metadata": {
    "collapsed": true
   },
   "outputs": [],
   "source": [
    "headers = {\n",
    "    'Content-Type': 'application/x-www-form-urlencoded',\n",
    "    'Referer': 'https://k.sbisec.co.jp/bsite/visitor/top.do',\n",
    "    'Accept': 'text/html,application/xhtml+xml,application/xml;q=0.9,*/*;q=0.8',\n",
    "    'User-Agent': 'Mozilla/5.0 (Macintosh; Intel Mac OS X 10_12_2) AppleWebKit/602.3.12 (KHTML, like Gecko) Version/10.0.2 Safari/602.3.12',\n",
    "    'Origin': 'https://k.sbisec.co.jp',\n",
    "}\n",
    "\n",
    "data = {'username':username_, 'password':password_}"
   ]
  },
  {
   "cell_type": "code",
   "execution_count": 151,
   "metadata": {
    "collapsed": false
   },
   "outputs": [],
   "source": [
    "sess = requests.session()\n",
    "res = sess.post('https://k.sbisec.co.jp/bsite/visitor/loginUserCheck.do', headers=headers, data=data)"
   ]
  },
  {
   "cell_type": "code",
   "execution_count": 47,
   "metadata": {
    "collapsed": false
   },
   "outputs": [
    {
     "data": {
      "text/plain": [
       "<!--tom11--><html>\n",
       "<head>\n",
       "<meta content=\"text/html; charset=utf-8\" http-equiv=\"Content-Type\"/>\n",
       "<meta content=\"nosniff\" http-equiv=\"X-Content-Type-Options\"/>\n",
       "<meta content=\"DENY\" http-equiv=\"X-FRAME-OPTIONS\"/>\n",
       "<link href=\"/bsite/css/cayen.css\" rel=\"stylesheet\" type=\"text/css\"/>\n",
       "<script src=\"//assets.adobedtm.com/bf9691b9a367ea661dc4391d81f49f6744980a3f/satelliteLib-580728fad40c87c35445b8d04916dffcc453f01b.js\"></script>\n",
       "<title>トップ | SBI証券</title>\n",
       "<script language=\"javascript\">\n",
       "function openJmsg(url){\n",
       "\tleftPos = 0;\n",
       "\tif(screen)\n",
       "\t{\n",
       "\t\tleftPos = screen.width-640\n",
       "\t}\n",
       "\t\n",
       "\t\t\tw = window.open(url,\"jmsg\",\"status=no,toolbar=no,resizable=yes,scrollbars=yes,height=666,width=629,left=\"+leftPos+\",top=0\");\n",
       "\t\n",
       "//  return false;\n",
       "}\n",
       "function openETrade(url){\n",
       "\tleftPos = 0;\n",
       "\tif(screen)\n",
       "\t{\n",
       "\t\tleftPos = screen.width-640\n",
       "\t}\n",
       "\t\n",
       "\t\t\tw = window.open(url,\"ETrade\",\"status=no,toolbar=no,resizable=yes,scrollbars=yes,height=666,width=629,left=\"+leftPos+\",top=0\");\n",
       "\t\n",
       "//  return false;\n",
       "}\n",
       "</script>\n",
       "</head>\n",
       "<body>\n",
       "<table align=\"center\" border=\"0\" cellpadding=\"0\" cellspacing=\"0\" width=\"400\">\n",
       "<tr>\n",
       "<td>\n",
       "<table border=\"0\" cellpadding=\"0\" cellspacing=\"0\" style=\"margin-top:7px;\" width=\"100%\">\n",
       "<tr valign=\"top\">\n",
       "<td>\n",
       "<a href=\"/bsite/member/menu.do\"><img alt=\"SBI証券　バックアップサイト\" border=\"0\" height=\"19\" src=\"/bsite/img/header_logo_backupsite.gif\" width=\"211\"/></a>\n",
       "</td>\n",
       "<td align=\"right\">\n",
       "<a href=\"/bsite/member/logout.do\">ログアウト</a>\n",
       "</td>\n",
       "</tr>\n",
       "</table>\n",
       "<br/>\n",
       "<table border=\"0\" cellpadding=\"0\" cellspacing=\"0\" width=\"100%\">\n",
       "<tr valign=\"top\">\n",
       "<td width=\"48%\">\n",
       "<table border=\"0\" cellpadding=\"0\" cellspacing=\"2\" width=\"100%\">\n",
       "<tr><td bgcolor=\"#E7E4F8\"><a class=\"wlink\" href=\"/bsite/price/search.do\"><div style=\"margin:2 0 1 6;\">取引／株価照会</div></a></td></tr>\n",
       "<tr><td bgcolor=\"#eeeeee\"><a class=\"wlink\" href=\"/bsite/member/stock/orderList.do\"><div style=\"margin:2 0 1 6;\">注文照会</div></a></td></tr>\n",
       "<tr><td bgcolor=\"#eeeeee\"><a class=\"wlink\" href=\"/bsite/member/stock/orderList.do?cayen.comboOff=1\"><div style=\"margin:2 0 1 6;\">注文取消／訂正</div></a></td></tr>\n",
       "</table>\n",
       "<br/>\n",
       "<table border=\"0\" cellpadding=\"0\" cellspacing=\"2\" width=\"100%\">\n",
       "<tr><td bgcolor=\"#E7E4F8\"><a class=\"wlink\" href=\"/bsite/member/acc/menu.do\"><div style=\"margin:2 0 1 6;\">口座管理</div></a></td></tr>\n",
       "<tr><td bgcolor=\"#eeeeee\"><a class=\"wlink\" href=\"/bsite/member/acc/holdStockList.do\"><div style=\"margin:2 0 1 6;\">保有証券一覧</div></a></td></tr>\n",
       "<tr><td bgcolor=\"#eeeeee\"><a class=\"wlink\" href=\"/bsite/member/acc/purchaseMarginList.do\"><div style=\"margin:2 0 1 6;\">買付余力</div></a></td></tr>\n",
       "<tr><td bgcolor=\"#eeeeee\"><a class=\"wlink\" href=\"/bsite/member/acc/positionList.do\"><div style=\"margin:2 0 1 6;\">信用建玉一覧</div></a></td></tr>\n",
       "<tr><td bgcolor=\"#eeeeee\"><a class=\"wlink\" href=\"/bsite/member/acc/positionMargin.do\"><div style=\"margin:2 0 1 6;\">信用建余力</div></a></td></tr>\n",
       "<tr><td bgcolor=\"#eeeeee\"><a class=\"wlink\" href=\"/bsite/member/banking/withdrawMenu.do\"><div style=\"margin:2 0 1 6;\">出金／振替指示</div></a></td></tr>\n",
       "<tr><td bgcolor=\"#eeeeee\"><a class=\"wlink\" href=\"/bsite/member/acc/atmwithdrawMax.do\"><div style=\"margin:2 0 1 6;\">ATMカード</div></a></td></tr>\n",
       "</table>\n",
       "<br/>\n",
       "<!-- 第三メッセージフラグがONの場合は「重要なお知らせ」リンク表示 -->\n",
       "<!-- 第三メッセージフラグがONの場合は「当社からのお知らせ」リンク表示 -->\n",
       "<table border=\"0\" cellpadding=\"0\" cellspacing=\"2\" width=\"100%\">\n",
       "<tr><td bgcolor=\"#ffff99\"><a class=\"wlink\" href=\"javascript:openJmsg('/bsite/member/jmsg/JMsgRedirect.do?categoryId=03')\"><div style=\"margin:2 0 1 6;\">重要なお知らせ</div></a></td></tr>\n",
       "<tr><td bgcolor=\"#ffff99\"><a class=\"wlink\" href=\"javascript:openETrade('/bsite/member/jmsg/JMsgRedirect.do?categoryId=02')\"><div style=\"margin:2 0 1 6;\">当社からのお知らせ</div></a></td></tr>\n",
       "</table>\n",
       "</td>\n",
       "<td width=\"4%\"><img border=\"0\" height=\"1\" src=\"/bsite/img/trans.gif\" width=\"1\"/></td>\n",
       "<td width=\"48%\">\n",
       "<table border=\"0\" cellpadding=\"0\" cellspacing=\"2\" width=\"100%\">\n",
       "<tr><td bgcolor=\"#E7E4F8\"><a class=\"wlink\" href=\"/bsite/member/portfolio/registeredStockList.do\"><div style=\"margin:2 0 1 6;\">登録銘柄</div></a></td></tr>\n",
       "<tr><td bgcolor=\"#eeeeee\"><a class=\"wlink\" href=\"/bsite/member/portfolio/stockSearch.do\"><div style=\"margin:2 0 1 6;\">銘柄登録</div></a></td></tr>\n",
       "<tr><td bgcolor=\"#eeeeee\"><a class=\"wlink\" href=\"/bsite/member/portfolio/lumpStockEntry.do\"><div style=\"margin:2 0 1 6;\">銘柄一括登録／編集</div></a></td></tr>\n",
       "<tr><td bgcolor=\"#eeeeee\"><a class=\"wlink\" href=\"/bsite/member/portfolio/registeredStockDelete.do\"><div style=\"margin:2 0 1 6;\">銘柄削除</div></a></td></tr>\n",
       "<tr><td bgcolor=\"#eeeeee\"><a class=\"wlink\" href=\"/bsite/member/portfolio/listEdit.do\"><div style=\"margin:2 0 1 6;\">リスト作成／変更</div></a></td></tr>\n",
       "</table>\n",
       "<br/>\n",
       "<table border=\"0\" cellpadding=\"0\" cellspacing=\"2\" width=\"100%\">\n",
       "<tr><td bgcolor=\"#E7E4F8\"><a class=\"wlink\" href=\"/bsite/market/menu.do\"><div style=\"margin:2 0 1 6;\">マーケット情報</div></a></td></tr>\n",
       "<tr><td bgcolor=\"#eeeeee\"><a class=\"wlink\" href=\"/bsite/market/rankingListM.do\"><div style=\"margin:2 0 1 6;\">ランキング</div></a></td></tr>\n",
       "<tr><td bgcolor=\"#eeeeee\"><a class=\"wlink\" href=\"/bsite/market/foreignIndexDetail.do\"><div style=\"margin:2 0 1 6;\">海外指標</div></a></td></tr>\n",
       "<tr><td bgcolor=\"#eeeeee\"><a class=\"wlink\" href=\"/bsite/market/forexDetail.do\"><div style=\"margin:2 0 1 6;\">外国為替</div></a></td></tr>\n",
       "<tr><td bgcolor=\"#eeeeee\"><a class=\"wlink\" href=\"/bsite/market/marketInfoList.do\"><div style=\"margin:2 0 1 6;\">市況コメント</div></a></td></tr>\n",
       "<tr><td bgcolor=\"#eeeeee\"><a class=\"wlink\" href=\"/bsite/market/newsList.do\"><div style=\"margin:2 0 1 6;\">ニュース</div></a></td></tr>\n",
       "</table>\n",
       "</td>\n",
       "</tr>\n",
       "</table>\n",
       "<br/>\n",
       "<a href=\"/bsite/member/setting/omissionSetting.do\">取引パスワード／注文確認省略設定</a><br/>\n",
       "<a href=\"/bsite/info/productGroupList.do?service_info_id=commission\">手数料</a><br/>\n",
       "<a href=\"/bsite/info/productGroupList.do?service_info_id=goodsList\">取扱商品</a><br/>\n",
       "<a href=\"/bsite/info/campaignInfoList.do\">新着情報/キャンペーン</a><br/>\n",
       "<a href=\"/bsite/info/inquiryList.do\">お問い合わせ</a><br/>\n",
       "<a href=\"/bsite/member/loginHistory.do\">ログイン履歴</a><br/>\n",
       "<a href=\"/bsite/info/policyList.do\">！ポリシー／免責事項</a><br/>\n",
       "<a href=\"/bsite/info/systemInfoDetail.do?sortation_id=maintenance\">システムメンテナンス</a><br/>\n",
       "<br/>\n",
       "<div align=\"right\">\n",
       "<a href=\"/bsite/member/logout.do\">ログアウト</a>\n",
       "</div>\n",
       "<div style=\"font-size: 90%;text-align: center;margin:5 0 0 0;padding:5 0 5 0;border-top: 1px dotted #999999;\"><a href=\"/bsite/info/policyDetail.do?list=title&amp;policy_info_id=salesLaw&amp;text_no=1\">金融商品取引法に係る表示</a></div>\n",
       "<div class=\"mtext-gray\" style=\"font-size: 90%;color:#666666;text-align: center;\">© SBI SECURITIES Co., Ltd. All Rights Reserved.</div>\n",
       "</td>\n",
       "</tr>\n",
       "</table>\n",
       "<script type=\"text/javascript\">\n",
       "var dtm = (function() {\n",
       "\treturn {\n",
       "\t\tsendForFirstTime : function(params) {\n",
       "\t\t\tsc_pageName = params && params.pageName ? params.pageName : '';\n",
       "\t\t\tsc_channel = params && params.channel ? params.channel : '';\n",
       "\t\t\tsc_events = params && params.events ? params.events : '';\n",
       "\t\t\tsc_c2 = params && params.prop2 ? params.prop2 : '';\n",
       "\t\t\tsc_c4 = params && params.prop4 ? params.prop4 : '';\n",
       "\t\t\tsc_c8 = params && params.prop8 ? params.prop8 : '';\n",
       "\t\t\tsc_c28 = params && params.prop28 ? params.prop28 : '';\n",
       "\t\t\tsc_c30 = params && params.prop30 ? params.prop30 : '';\n",
       "\t\t\tsc_c31 = params && params.prop31 ? params.prop31 : '';\n",
       "\t\t\tsc_c33 = params && params.prop33 ? params.prop33 : '';\n",
       "\t\t\tsc_c36 = params && params.prop36 ? params.prop36 : '';\n",
       "\t\t\tsc_c57 = params && params.prop57 ? params.prop57 : '';\n",
       "\t\t\tsc_v16 = params && params.eVar16 ? params.eVar16 : '';\n",
       "\t\t\tsc_v17 = params && params.eVar17 ? params.eVar17 : '';\n",
       "\t\t\tsc_v29 = params && params.eVar29 ? params.eVar29 : '';\n",
       "\t\t\tsc_v39 = params && params.eVar39 ? params.eVar39 : '';\n",
       "\n",
       "\t\t\t_satellite.pageBottom();\n",
       "\t\t}\n",
       "\t};\n",
       "})();\n",
       "</script>\n",
       "<script type=\"text/javascript\">\n",
       "dtm.sendForFirstTime({\n",
       "\tchannel : 'ksite:common',\n",
       "\tpageName : 'ksite:common:userinfo:n:top',\n",
       "\tprop30 : 'ksite:common:userinfo',\n",
       "\tprop31 : 'ksite:userinfo',\n",
       "\tprop33 : 'ksite:userinfo:n'\n",
       "});\n",
       "</script>\n",
       "</body>\n",
       "</html>"
      ]
     },
     "execution_count": 47,
     "metadata": {},
     "output_type": "execute_result"
    }
   ],
   "source": [
    "bs(res.content,'lxml')"
   ]
  },
  {
   "cell_type": "code",
   "execution_count": 25,
   "metadata": {
    "collapsed": false
   },
   "outputs": [],
   "source": [
    "#セッション情報の更新\n",
    "headersSearch = {\n",
    "    'Referer': 'https://k.sbisec.co.jp/bsite/visitor/loginCheck.do',\n",
    "    'Accept': 'text/html,application/xhtml+xml,application/xml;q=0.9,*/*;q=0.8',\n",
    "    'User-Agent': 'Mozilla/5.0 (Macintosh; Intel Mac OS X 10_12_2) AppleWebKit/602.3.12 (KHTML, like Gecko) Version/10.0.2 Safari/602.3.12',\n",
    "    }\n",
    "resSearch = sess.post(urlSearch, headers)\n",
    "#bs(resSearch.content,'lxml')"
   ]
  },
  {
   "cell_type": "code",
   "execution_count": 26,
   "metadata": {
    "collapsed": false
   },
   "outputs": [
    {
     "data": {
      "text/plain": [
       "<!--tom11--><html>\n",
       "<head>\n",
       "<meta content=\"text/html; charset=utf-8\" http-equiv=\"Content-Type\"/>\n",
       "<meta content=\"nosniff\" http-equiv=\"X-Content-Type-Options\"/>\n",
       "<meta content=\"DENY\" http-equiv=\"X-FRAME-OPTIONS\"/>\n",
       "<link href=\"/bsite/css/cayen.css\" rel=\"stylesheet\" type=\"text/css\"/>\n",
       "<script src=\"//assets.adobedtm.com/bf9691b9a367ea661dc4391d81f49f6744980a3f/satelliteLib-580728fad40c87c35445b8d04916dffcc453f01b.js\"></script>\n",
       "<title>取引／株価照会 | SBI証券</title>\n",
       "</head>\n",
       "<body>\n",
       "<table align=\"center\" border=\"0\" cellpadding=\"0\" cellspacing=\"0\" width=\"400\">\n",
       "<tr><td>\n",
       "<table border=\"0\" cellpadding=\"0\" cellspacing=\"0\" style=\"margin-top:7px;\" width=\"100%\">\n",
       "<tr valign=\"top\">\n",
       "<td>\n",
       "<a href=\"/bsite/member/menu.do\"><img alt=\"SBI証券　バックアップサイト\" border=\"0\" height=\"19\" src=\"/bsite/img/header_logo_backupsite.gif\" width=\"211\"/></a>\n",
       "</td>\n",
       "<td align=\"right\">\n",
       "<a href=\"/bsite/member/menu.do\">トップ</a> <b><font color=\"#999999\">│</font></b> <a href=\"/bsite/member/logout.do\">ログアウト</a>\n",
       "</td>\n",
       "</tr>\n",
       "</table>\n",
       "<table border=\"0\" cellpadding=\"0\" cellspacing=\"0\" style=\"margin-top:10px;\" width=\"100%\">\n",
       "<tr align=\"center\">\n",
       "<td bgcolor=\"#7E7ECC\">\n",
       "<table border=\"0\" cellpadding=\"0\" cellspacing=\"1\" width=\"100%\">\n",
       "<tr>\n",
       "<td align=\"center\" bgcolor=\"#eceaf9\">\n",
       "<a class=\"wlink\" href=\"/bsite/price/search.do\"><div style=\"margin:2 0 1 0;\">取引／株価照会</div></a>\n",
       "</td>\n",
       "</tr>\n",
       "</table>\n",
       "</td>\n",
       "<td width=\"1%\"><img border=\"0\" height=\"1\" src=\"/bsite/img/trans.gif\" width=\"1\"/></td>\n",
       "<td bgcolor=\"#eeeeee\">\n",
       "<a class=\"wlink\" href=\"/bsite/member/portfolio/registeredStockList.do\"><div style=\"margin:2 0 1 0;\">登録銘柄</div></a>\n",
       "</td>\n",
       "<td width=\"1%\"><img border=\"0\" height=\"1\" src=\"/bsite/img/trans.gif\" width=\"1\"/></td>\n",
       "<td bgcolor=\"#eeeeee\">\n",
       "<a class=\"wlink\" href=\"/bsite/member/acc/menu.do\"><div style=\"margin:2 0 1 0;\">口座管理</div></a>\n",
       "</td>\n",
       "<td width=\"1%\"><img border=\"0\" height=\"1\" src=\"/bsite/img/trans.gif\" width=\"1\"/></td>\n",
       "<td bgcolor=\"#eeeeee\">\n",
       "<a class=\"wlink\" href=\"/bsite/market/menu.do\"><div style=\"margin:2 0 1 0;\">マーケット情報</div></a>\n",
       "</td>\n",
       "</tr>\n",
       "</table>\n",
       "<div class=\"titletext\">取引／株価照会</div>\n",
       "<br/>\n",
       "<form action=\"/bsite/price/searchStock.do\" method=\"POST\">\n",
       "<b>銘柄コード</b> ： \n",
       "\t\t\t<div style=\"margin-top:5px;\">\n",
       "<input maxlength=\"5\" name=\"ipm_product_code\" size=\"5\" type=\"text\"/>  <input name=\"id\" type=\"submit\" value=\"検索\"/>\n",
       "</div>\n",
       "<br/>\n",
       "<b>銘柄</b>（部分指定可） ： \n",
       "\t\t<div style=\"margin-top:5px;\">\n",
       "<input maxlength=\"14\" name=\"stock_name\" size=\"12\" type=\"text\"/>  <input name=\"name\" type=\"submit\" value=\"検索\"/>\n",
       "<br/>\n",
       "</div>\n",
       "</form>\n",
       "<br/>\n",
       "<table border=\"0\" cellpadding=\"0\" cellspacing=\"0\" width=\"100%\">\n",
       "<tr align=\"center\">\n",
       "<td bgcolor=\"#eeeeee\" width=\"50%\">\n",
       "<a class=\"wlink\" href=\"/bsite/member/stock/orderList.do\"><div style=\"margin:2 0 1 0;\">注文照会</div></a>\n",
       "</td>\n",
       "<td width=\"1%\"><img border=\"0\" height=\"1\" src=\"/bsite/img/trans.gif\" width=\"1\"/></td>\n",
       "<td bgcolor=\"#eeeeee\" width=\"49%\">\n",
       "<a class=\"wlink\" href=\"/bsite/member/stock/orderList.do?cayen.comboOff=1\"><div style=\"margin:2 0 1 0;\">注文取消/訂正</div></a>\n",
       "</td>\n",
       "</tr>\n",
       "</table>\n",
       "<br/>\n",
       "<div align=\"right\">\n",
       "<a href=\"/bsite/member/menu.do\">トップ</a> <b><font color=\"#999999\">│</font></b> <a href=\"/bsite/member/logout.do\">ログアウト</a>\n",
       "</div>\n",
       "<div style=\"font-size: 90%;text-align: center;margin:5 0 0 0;padding:5 0 5 0;border-top: 1px dotted #999999;\"><a href=\"/bsite/info/policyDetail.do?list=title&amp;policy_info_id=salesLaw&amp;text_no=1\">金融商品取引法に係る表示</a></div>\n",
       "<div class=\"mtext-gray\" style=\"font-size: 90%;color:#666666;text-align: center;\">© SBI SECURITIES Co., Ltd. All Rights Reserved.</div>\n",
       "</td></tr>\n",
       "</table>\n",
       "<script type=\"text/javascript\">\n",
       "var dtm = (function() {\n",
       "\treturn {\n",
       "\t\tsendForFirstTime : function(params) {\n",
       "\t\t\tsc_pageName = params && params.pageName ? params.pageName : '';\n",
       "\t\t\tsc_channel = params && params.channel ? params.channel : '';\n",
       "\t\t\tsc_events = params && params.events ? params.events : '';\n",
       "\t\t\tsc_c2 = params && params.prop2 ? params.prop2 : '';\n",
       "\t\t\tsc_c4 = params && params.prop4 ? params.prop4 : '';\n",
       "\t\t\tsc_c8 = params && params.prop8 ? params.prop8 : '';\n",
       "\t\t\tsc_c28 = params && params.prop28 ? params.prop28 : '';\n",
       "\t\t\tsc_c30 = params && params.prop30 ? params.prop30 : '';\n",
       "\t\t\tsc_c31 = params && params.prop31 ? params.prop31 : '';\n",
       "\t\t\tsc_c33 = params && params.prop33 ? params.prop33 : '';\n",
       "\t\t\tsc_c36 = params && params.prop36 ? params.prop36 : '';\n",
       "\t\t\tsc_c57 = params && params.prop57 ? params.prop57 : '';\n",
       "\t\t\tsc_v16 = params && params.eVar16 ? params.eVar16 : '';\n",
       "\t\t\tsc_v17 = params && params.eVar17 ? params.eVar17 : '';\n",
       "\t\t\tsc_v29 = params && params.eVar29 ? params.eVar29 : '';\n",
       "\t\t\tsc_v39 = params && params.eVar39 ? params.eVar39 : '';\n",
       "\n",
       "\t\t\t_satellite.pageBottom();\n",
       "\t\t}\n",
       "\t};\n",
       "})();\n",
       "</script>\n",
       "<script type=\"text/javascript\">\n",
       "dtm.sendForFirstTime({\n",
       "\tchannel : 'ksite:dstock',\n",
       "\tpageName : 'ksite:dstock:issueinfo:n:search_top',\n",
       "\tprop30 : 'ksite:dstock:issueinfo',\n",
       "\tprop31 : 'ksite:issueinfo',\n",
       "\tprop33 : 'ksite:issueinfo:n'\n",
       "});\n",
       "</script>\n",
       "</body>\n",
       "</html>"
      ]
     },
     "execution_count": 26,
     "metadata": {},
     "output_type": "execute_result"
    }
   ],
   "source": [
    "bs(resSearch.content,'lxml')"
   ]
  },
  {
   "cell_type": "code",
   "execution_count": 152,
   "metadata": {
    "collapsed": false
   },
   "outputs": [],
   "source": [
    "#stockcode = [\n",
    "#  ('ipm_product_code', '7203'),\n",
    "#  ('id', '\\u691C\\u7D22'),\n",
    "#  ('stock_name', ''),\n",
    "#]\n",
    "code = 6758\n",
    "stockcode = {'ipm_product_code':str(code),'id':'\\u691C\\u7D22','stock_name':''}\n",
    "\n",
    "headersSearchStock = {\n",
    "    'Referer': 'https://k.sbisec.co.jp/bsite/price/search.do',\n",
    "    'Accept': 'text/html,application/xhtml+xml,application/xml;q=0.9,*/*;q=0.8',\n",
    "    'User-Agent': 'Mozilla/5.0 (Macintosh; Intel Mac OS X 10_12_2) AppleWebKit/602.3.12 (KHTML, like Gecko) Version/10.0.2 Safari/602.3.12',\n",
    "    'Host': 'k.sbisec.co.jp',\n",
    "    'Origin':'https:/k.sbisec.co.jp'\n",
    "    }"
   ]
  },
  {
   "cell_type": "code",
   "execution_count": 153,
   "metadata": {
    "collapsed": true
   },
   "outputs": [],
   "source": [
    "result = sess.post(urlSearchStock, data=stockcode, headers=headersSearchStock)"
   ]
  },
  {
   "cell_type": "code",
   "execution_count": 154,
   "metadata": {
    "collapsed": false
   },
   "outputs": [],
   "source": [
    "soup = bs(result.content,'lxml')"
   ]
  },
  {
   "cell_type": "code",
   "execution_count": 86,
   "metadata": {
    "collapsed": false
   },
   "outputs": [
    {
     "name": "stdout",
     "output_type": "stream",
     "text": [
      "5215.0\n"
     ]
    }
   ],
   "source": [
    "\n",
    "\n",
    "#現在値\n",
    "currentPrice = float(soup.find('font',class_='ltext').get_text().replace(',',''))\n",
    "\n",
    "print(currentPrice)"
   ]
  },
  {
   "cell_type": "code",
   "execution_count": 89,
   "metadata": {
    "collapsed": false
   },
   "outputs": [
    {
     "data": {
      "text/plain": [
       "<table border=\"0\" cellpadding=\"0\" cellspacing=\"2\" style=\"margin-top:5px;\">\n",
       "<tr valign=\"top\">\n",
       "<td colspan=\"3\" nowrap=\"\"><b>※東証市場情報</b></td>\n",
       "</tr>\n",
       "<tr valign=\"top\">\n",
       "<td nowrap=\"\">現在値 ： </td>\n",
       "<td colspan=\"2\" nowrap=\"\"><font class=\"ltext\">5,215</font> C （11/17 15:00）</td>\n",
       "</tr>\n",
       "<tr valign=\"top\">\n",
       "<td nowrap=\"\">前日比 ： </td>\n",
       "<td nowrap=\"\" width=\"100%\"><font color=\"#FF0000\">+38</font> （<font color=\"#FF0000\">+0.73%</font>）</td>\n",
       "<td align=\"right\" nowrap=\"\" width=\"10%\">前日終値 ： 5,177</td>\n",
       "</tr>\n",
       "</table>"
      ]
     },
     "execution_count": 89,
     "metadata": {},
     "output_type": "execute_result"
    }
   ],
   "source": [
    "soup.find_all('table')[6]"
   ]
  },
  {
   "cell_type": "code",
   "execution_count": 96,
   "metadata": {
    "collapsed": false
   },
   "outputs": [
    {
     "data": {
      "text/plain": [
       "[<td colspan=\"4\"><img alt=\"\" height=\"1\" src=\"/bsite/img/trans.gif\" width=\"1\"/></td>,\n",
       " <td bgcolor=\"#f0f0f0\" nowrap=\"\" width=\"13%\"> 始値</td>,\n",
       " <td align=\"right\" nowrap=\"\" width=\"32%\">5,299（09:03）</td>,\n",
       " <td bgcolor=\"#f0f0f0\" nowrap=\"\" width=\"23%\"> 出来高</td>,\n",
       " <td align=\"right\" nowrap=\"\" width=\"32%\">14,556,500株</td>,\n",
       " <td colspan=\"4\"><img alt=\"\" height=\"1\" src=\"/bsite/img/trans.gif\" width=\"1\"/></td>,\n",
       " <td bgcolor=\"#f0f0f0\" nowrap=\"\"> 高値</td>,\n",
       " <td align=\"right\" nowrap=\"\">5,370（09:07）</td>,\n",
       " <td bgcolor=\"#f0f0f0\" nowrap=\"\"> 年初来高値</td>,\n",
       " <td align=\"right\" nowrap=\"\">5,485（11/08） </td>,\n",
       " <td colspan=\"4\"><img alt=\"\" height=\"1\" src=\"/bsite/img/trans.gif\" width=\"1\"/></td>,\n",
       " <td bgcolor=\"#f0f0f0\" nowrap=\"\"> 安値</td>,\n",
       " <td align=\"right\" nowrap=\"\">5,193（13:04）</td>,\n",
       " <td bgcolor=\"#f0f0f0\" nowrap=\"\"> 年初来安値</td>,\n",
       " <td align=\"right\" nowrap=\"\">3,269（01/05） </td>,\n",
       " <td colspan=\"4\"><img alt=\"\" height=\"1\" src=\"/bsite/img/trans.gif\" width=\"1\"/></td>]"
      ]
     },
     "execution_count": 96,
     "metadata": {},
     "output_type": "execute_result"
    }
   ],
   "source": [
    "ohlcTables = soup.find_all('table')[7].find_all('td')\n",
    "ohlcTables"
   ]
  },
  {
   "cell_type": "code",
   "execution_count": 103,
   "metadata": {
    "collapsed": false
   },
   "outputs": [
    {
     "name": "stdout",
     "output_type": "stream",
     "text": [
      "<td align=\"right\" nowrap=\"\" width=\"32%\">5,299（09:03）</td>\n",
      "<td align=\"right\" nowrap=\"\" width=\"32%\">14,556,500株</td>\n",
      "<td align=\"right\" nowrap=\"\">5,370（09:07）</td>\n",
      "<td align=\"right\" nowrap=\"\">5,193（13:04）</td>\n",
      "<td align=\"right\" nowrap=\"\">5,485（11/08） </td>\n",
      "<td align=\"right\" nowrap=\"\">3,269（01/05） </td>\n"
     ]
    }
   ],
   "source": [
    "print(ohlcTables[2]) #始値\n",
    "print(ohlcTables[4]) #出来高\n",
    "print(ohlcTables[7]) #高値\n",
    "print(ohlcTables[12]) #安値\n",
    "print(ohlcTables[9]) #年初来高値\n",
    "print(ohlcTables[14]) #年初来安値"
   ]
  },
  {
   "cell_type": "code",
   "execution_count": 122,
   "metadata": {
    "collapsed": false
   },
   "outputs": [
    {
     "name": "stdout",
     "output_type": "stream",
     "text": [
      "5299.0 5370.0 5193.0\n",
      "{'open': 5299.0, 'high': 5370.0, 'current': 5215.0, 'low': 5193.0}\n"
     ]
    }
   ],
   "source": [
    "openPrice = float(ohlcTables[2].get_text().split('（')[0].replace(',',''))\n",
    "highPrice = float(ohlcTables[7].get_text().split('（')[0].replace(',',''))\n",
    "lowPrice = float(ohlcTables[12].get_text().split('（')[0].replace(',',''))\n",
    "print(openPrice,highPrice,lowPrice)\n",
    "ohlc = {'open':openPrice,'high':highPrice,'low':lowPrice,'current':currentPrice}\n",
    "print(ohlc)"
   ]
  },
  {
   "cell_type": "code",
   "execution_count": 155,
   "metadata": {
    "collapsed": false
   },
   "outputs": [],
   "source": [
    "def getOhlc(code,sess):\n",
    "    urlSearchStock = 'https://k.sbisec.co.jp/bsite/price/searchStock.do'\n",
    "    stockcode = {'ipm_product_code':str(code),'id':'\\u691C\\u7D22','stock_name':''}\n",
    "    headersSearchStock = {\n",
    "    'Referer': 'https://k.sbisec.co.jp/bsite/price/search.do',\n",
    "    'Accept': 'text/html,application/xhtml+xml,application/xml;q=0.9,*/*;q=0.8',\n",
    "    'User-Agent': 'Mozilla/5.0 (Macintosh; Intel Mac OS X 10_12_2) AppleWebKit/602.3.12 (KHTML, like Gecko) Version/10.0.2 Safari/602.3.12',\n",
    "    'Host': 'k.sbisec.co.jp',\n",
    "    'Origin':'https:/k.sbisec.co.jp'\n",
    "    }\n",
    "    res = sess.post(urlSearchStock, data=stockcode, headers=headersSearchStock)\n",
    "    soup = bs(res.content,'lxml')\n",
    "    currentPrice = float(soup.find('font',class_='ltext').get_text().replace(',',''))\n",
    "    ohlcTables = soup.find_all('table')[7].find_all('td')\n",
    "    openPrice = float(ohlcTables[2].get_text().split('（')[0].replace(',',''))\n",
    "    highPrice = float(ohlcTables[7].get_text().split('（')[0].replace(',',''))\n",
    "    lowPrice = float(ohlcTables[12].get_text().split('（')[0].replace(',',''))\n",
    "    ohlc = {code : {'open':openPrice,'high':highPrice,'low':lowPrice,'current':currentPrice}}\n",
    "    return ohlc"
   ]
  },
  {
   "cell_type": "code",
   "execution_count": 156,
   "metadata": {
    "collapsed": false
   },
   "outputs": [
    {
     "name": "stdout",
     "output_type": "stream",
     "text": [
      "{7203: {'open': 6995.0, 'high': 7011.0, 'current': 6917.0, 'low': 6908.0}}\n",
      "{6758: {'open': 5299.0, 'high': 5370.0, 'current': 5215.0, 'low': 5193.0}}\n",
      "{9437: {'open': 2810.5, 'high': 2825.0, 'current': 2796.5, 'low': 2787.0}}\n",
      "{8306: {'open': 744.2, 'high': 750.4, 'current': 743.1, 'low': 740.4}}\n",
      "{4183: {'open': 3540.0, 'high': 3570.0, 'current': 3515.0, 'low': 3490.0}}\n"
     ]
    }
   ],
   "source": [
    "codes = [7203,6758,9437,8306,4183]\n",
    "for code in codes:\n",
    "    print(getOhlc(code,sess))"
   ]
  },
  {
   "cell_type": "code",
   "execution_count": null,
   "metadata": {
    "collapsed": false
   },
   "outputs": [],
   "source": []
  },
  {
   "cell_type": "code",
   "execution_count": 151,
   "metadata": {
    "collapsed": false
   },
   "outputs": [
    {
     "data": {
      "text/plain": [
       "<RequestsCookieJar[Cookie(version=0, name='baldrSid', value='C2D2AE61CB949E422E36E0372D652368.tom11', port=None, port_specified=False, domain='k.sbisec.co.jp', domain_specified=False, domain_initial_dot=False, path='/', path_specified=True, secure=True, expires=None, discard=True, comment=None, comment_url=None, rest={'HttpOnly': None}, rfc2109=False)]>"
      ]
     },
     "execution_count": 151,
     "metadata": {},
     "output_type": "execute_result"
    }
   ],
   "source": [
    "data.cookies"
   ]
  },
  {
   "cell_type": "code",
   "execution_count": 143,
   "metadata": {
    "collapsed": true
   },
   "outputs": [],
   "source": [
    "import os"
   ]
  },
  {
   "cell_type": "code",
   "execution_count": 144,
   "metadata": {
    "collapsed": true
   },
   "outputs": [],
   "source": [
    "baseHeaders = {\\\n",
    "                        'Content-Type': 'application/x-www-form-urlencoded',\\\n",
    "                        'Accept': 'text/html,application/xhtml+xml,application/xml;q=0.9,*/*;q=0.8',\\\n",
    "                        'User-Agent': 'Mozilla/5.0 (Macintosh; Intel Mac OS X 10_12_2) AppleWebKit/602.3.12 (KHTML, like Gecko) Version/10.0.2 Safari/602.3.12',\\\n",
    "                        'Origin': 'https://k.sbisec.co.jp',\\\n",
    "                        'Host': 'k.sbisec.co.jp'}"
   ]
  },
  {
   "cell_type": "code",
   "execution_count": 145,
   "metadata": {
    "collapsed": false
   },
   "outputs": [
    {
     "data": {
      "text/plain": [
       "{'Accept': 'text/html,application/xhtml+xml,application/xml;q=0.9,*/*;q=0.8',\n",
       " 'Content-Type': 'application/x-www-form-urlencoded',\n",
       " 'Host': 'k.sbisec.co.jp',\n",
       " 'Origin': 'https://k.sbisec.co.jp',\n",
       " 'User-Agent': 'Mozilla/5.0 (Macintosh; Intel Mac OS X 10_12_2) AppleWebKit/602.3.12 (KHTML, like Gecko) Version/10.0.2 Safari/602.3.12'}"
      ]
     },
     "execution_count": 145,
     "metadata": {},
     "output_type": "execute_result"
    }
   ],
   "source": [
    "baseHeaders.update"
   ]
  },
  {
   "cell_type": "code",
   "execution_count": 3,
   "metadata": {
    "collapsed": false
   },
   "outputs": [],
   "source": [
    "import time"
   ]
  },
  {
   "cell_type": "code",
   "execution_count": 7,
   "metadata": {
    "collapsed": false
   },
   "outputs": [
    {
     "data": {
      "text/plain": [
       "1511682644.571047"
      ]
     },
     "execution_count": 7,
     "metadata": {},
     "output_type": "execute_result"
    }
   ],
   "source": [
    "time.time()"
   ]
  },
  {
   "cell_type": "code",
   "execution_count": null,
   "metadata": {
    "collapsed": true
   },
   "outputs": [],
   "source": []
  }
 ],
 "metadata": {
  "kernelspec": {
   "display_name": "Python 3",
   "language": "python",
   "name": "python3"
  },
  "language_info": {
   "codemirror_mode": {
    "name": "ipython",
    "version": 3
   },
   "file_extension": ".py",
   "mimetype": "text/x-python",
   "name": "python",
   "nbconvert_exporter": "python",
   "pygments_lexer": "ipython3",
   "version": "3.5.0"
  }
 },
 "nbformat": 4,
 "nbformat_minor": 1
}
